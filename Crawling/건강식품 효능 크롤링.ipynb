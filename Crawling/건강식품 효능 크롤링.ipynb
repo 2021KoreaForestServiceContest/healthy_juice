{
 "cells": [
  {
   "cell_type": "code",
   "execution_count": 10,
   "metadata": {},
   "outputs": [],
   "source": [
    "import pandas as pd\n",
    "import urllib.request\n",
    "import urllib.parse\n",
    "import requests"
   ]
  },
  {
   "cell_type": "code",
   "execution_count": null,
   "metadata": {},
   "outputs": [],
   "source": [
    "# reqeust url 형식 http://openapi.foodsafetykorea.go.kr/api/a5da39d31ce94c98ac69/I2710/json/300/400"
   ]
  },
  {
   "cell_type": "code",
   "execution_count": 44,
   "metadata": {
    "scrolled": true
   },
   "outputs": [
    {
     "data": {
      "text/plain": [
       "'{\"I2710\":{\"RESULT\":{\"MSG\":\"정상처리되었습니다.\",\"CODE\":\"INFO-000\"},\"total_count\":\"350\",\"row\":[{\"SKLL_IX_IRDNT_RAWMTRL\":\"Oleanonic acid\",\"LAST_UPDT_DTM\":\"20201029\",\"INTK_UNIT\":\"mg\",\"IFTKN_ATNT_MATR_CN\":\"임산부, 수유부 및 어린이는 섭취에 주의\",\"DAY_INTK_HIGHLIMIT\":\"1050\",\"PRDCT_NM\":\"매스틱 검(제2014-50호)\",\"CRET_DTM\":\"20191226\",\"DAY_INTK_LOWLIMIT\":\"1050\",\"PRIMARY_FNCLTY\":\"위 불편감 개선에 도움을 줄 수 있음(생리활성기능 2등급)\",\"INTK_MEMO\":\"\"},{\"SKLL_IX_IRDNT_RAWMTRL\":\"Chondroitin sulfate sodium\",\"LAST_UPDT_DTM\":\"20201029\",\"INTK_UNIT\":\"mg/일\",\"IFTKN_ATNT_MATR_CN\":\"-영·유아, 어린이, 임산부 및 수유부는 섭취에 주의할 것\\\\n-이상사례 발생 시 섭취를 중단하고 전문가와 상담할 것\\\\n-특정질환(알레르기 체질 등)이 있는 분은 섭취에 주의할 것\\\\n-수술 전후 또는 항응고제, 항혈소판제, 비스테로이드계 항염증약 복용자는 섭취 전 전문의와 상담할 것\\\\n-천식이 있는 사람은 섭취 전 전문의와 상담할 것\",\"DAY_INTK_HIGHLIMIT\":\"1200\",\"PRDCT_NM\":\"콘드로이친(제2020-1호)\",\"CRET_DTM\":\"20200318\",\"DAY_INTK_LOWLIMIT\":\"1200\",\"PRIMARY_FNCLTY\":\"(국문) 관절 및 연골 건강에 도움을 줄 수 있음\\\\n(영문) May help maintain healthy joint\",\"INTK_MEMO\":\"\"},{\"SKLL_IX_IRDNT_RAWMTRL\":\"알파에스1카제인(αS1-casein)(f91-100)\",\"LAST_UPDT_DTM\":\"20201029\",\"INTK_UNIT\":\"mg/일\",\"IFTKN_ATNT_MATR_CN\":\"-임산부, 수유여성 및 어린이는 섭취에 주의\\\\n-우유 및 유제품에 대하여 알레르기를 나타내는 사람은 섭취에 주의\",\"DAY_INTK_HIGHLIMIT\":\"300\",\"PRDCT_NM\":\"유단백가수분해물(락티움)(제2020-2호)\",\"CRET_DTM\":\"20200318\",\"DAY_INTK_LOWLIMIT\":\"300\",\"PRIMARY_FNCLTY\":\"(국문) 수면의 질 개선에 도움을 줄 수 있음\\\\n(영문) May help to improve sleep\",\"INTK_MEMO\":\"\"},{\"SKLL_IX_IRDNT_RAWMTRL\":\"베타글루칸(β-glucan)\",\"LAST_UPDT_DTM\":\"20200723\",\"INTK_UNIT\":\"mg/일\",\"IFTKN_ATNT_MATR_CN\":\"-영·유아, 어린이, 임산부 및 수유부는 섭취에 주의\\\\n-특정질환(알레르기 체질 등)이 있는 분은 섭취에 주의\\\\n-이상사례 발생 시 섭취를 중단하고 전문가와 상담할 것\",\"DAY_INTK_HIGHLIMIT\":\"412\",\"PRDCT_NM\":\"베타글루칸분말(제2020-10호)\",\"CRET_DTM\":\"20200722\",\"DAY_INTK_LOWLIMIT\":\"412\",\"PRIMARY_FNCLTY\":\"-(국문) 면역기능 증진에 도움을 줄 수 있음\\\\n  (영문) May help to improve immune function\",\"INTK_MEMO\":\"베타글루칸분말(제2020-10호)\"},{\"SKLL_IX_IRDNT_RAWMTRL\":\"카테킨\",\"LAST_UPDT_DTM\":\"20200820\",\"INTK_UNIT\":\"g\",\"IFTKN_ATNT_MATR_CN\":\"(가) 어린이, 임산부 및 수유부는 섭취를 피할 것\\\\n(나) 간질환이 있거나 의약품 복용 시 전문가와 상담할 것\\\\n(다) 카페인이 함유되어 있어 초조감, 불면 등을 나타낼 수 있음\\\\n(라) 식사 후 섭취할 것\\\\n(마) 카페인을 함유한 식품의 섭취에 주의할 것\\\\n(바) 이상사례 발생 시 섭취를 중단하고 전문가와 상담할 것\",\"DAY_INTK_HIGHLIMIT\":\"1\",\"PRDCT_NM\":\"녹차추출물\",\"CRET_DTM\":\"20080626\",\"DAY_INTK_LOWLIMIT\":\"0.3\",\"PRIMARY_FNCLTY\":\"①항산화·체지방 감소·혈중 콜레스테롤 개선에 도움을 줄 수 있음\",\"INTK_MEMO\":\"\"},{\"SKLL_IX_IRDNT_RAWMTRL\":\"코로솔산(Corosolic acid)\",\"LAST_UPDT_DTM\":\"20200820\",\"INTK_UNIT\":\"mg\",\"IFTKN_ATNT_MATR_CN\":\"\",\"DAY_INTK_HIGHLIMIT\":\"1.3\",\"PRDCT_NM\":\"바나바잎 추출물\",\"CRET_DTM\":\"20130102\",\"DAY_INTK_LOWLIMIT\":\"0.45\",\"PRIMARY_FNCLTY\":\"①식후 혈당상승 억제에 도움을 줄 수 있음\",\"INTK_MEMO\":\"\"},{\"SKLL_IX_IRDNT_RAWMTRL\":\"피브린용해효소활성\",\"LAST_UPDT_DTM\":\"20201029\",\"INTK_UNIT\":\"mg\",\"IFTKN_ATNT_MATR_CN\":\"-대두에 알레르기를 나타내는 사람은 섭취에 주의\\\\n-임산부-수유부 섭취에 주의\\\\n-의약품(혈액항응고제) 복용 시 섭취에 주의\\\\n-수술 전-후 섭취에 주의\",\"DAY_INTK_HIGHLIMIT\":\"67\",\"PRDCT_NM\":\"나토균배양분말(제2013-6호)\",\"CRET_DTM\":\"20191226\",\"DAY_INTK_LOWLIMIT\":\"44\",\"PRIMARY_FNCLTY\":\"혈행 개선에 도움을 줄 수 있음(생리활성기능 2등급)\",\"INTK_MEMO\":\"\"},{\"SKLL_IX_IRDNT_RAWMTRL\":\"리소스펌산(Lithospermic acid)\",\"LAST_UPDT_DTM\":\"20201029\",\"INTK_UNIT\":\"mg\",\"IFTKN_ATNT_MATR_CN\":\"\",\"DAY_INTK_HIGHLIMIT\":\"2200\",\"PRDCT_NM\":\"지초추출물(제2010-59호)\",\"CRET_DTM\":\"20191226\",\"DAY_INTK_LOWLIMIT\":\"2200\",\"PRIMARY_FNCLTY\":\"피부보습에 도움을 줄 수 있음(기타기능Ⅱ)\",\"INTK_MEMO\":\"\"},{\"SKLL_IX_IRDNT_RAWMTRL\":\"히드록시프로필메틸셀룰로오스\",\"LAST_UPDT_DTM\":\"20201029\",\"INTK_UNIT\":\"g\",\"IFTKN_ATNT_MATR_CN\":\"-과량 복용 시 약한 완하 작용 및 변비 주의\\\\n-반드시 충분한 물과 함께 섭취할 것 (액상 제외)\",\"DAY_INTK_HIGHLIMIT\":\"8\",\"PRDCT_NM\":\"히드록시프로필메틸셀룰로오스(제2014-12호)\",\"CRET_DTM\":\"20191226\",\"DAY_INTK_LOWLIMIT\":\"4\",\"PRIMARY_FNCLTY\":\"식후 혈당상승 억제에 도움을 줄 수 있음 (생리활성기능 2등급)\",\"INTK_MEMO\":\"\"},{\"SKLL_IX_IRDNT_RAWMTRL\":\"엘레우테로사이드 E(Eleutheroside E), 리구스틸라이드(Ligustilide), 바이칼린(Baicalin)\",\"LAST_UPDT_DTM\":\"20201029\",\"INTK_UNIT\":\"g\",\"IFTKN_ATNT_MATR_CN\":\"\",\"DAY_INTK_HIGHLIMIT\":\"1.5\",\"PRDCT_NM\":\"가시오갈피 등 복합추출물(제2011-28호)\",\"CRET_DTM\":\"20191226\",\"DAY_INTK_LOWLIMIT\":\"1.5\",\"PRIMARY_FNCLTY\":\"관절 건강에 도움을 줄 수 있음(기타기능Ⅱ)\",\"INTK_MEMO\":\"\"},{\"SKLL_IX_IRDNT_RAWMTRL\":\"1-deoxynojirimycin\",\"LAST_UPDT_DTM\":\"20210205\",\"INTK_UNIT\":\"g/일\",\"IFTKN_ATNT_MATR_CN\":\"-임산부.수유부는 섭취에 주의\",\"DAY_INTK_HIGHLIMIT\":\"6\",\"PRDCT_NM\":\"상엽추출물(제2014-14호)\",\"CRET_DTM\":\"20191226\",\"DAY_INTK_LOWLIMIT\":\"6\",\"PRIMARY_FNCLTY\":\"식후혈당 상승 억제에 도움을 줄 수 있음(생리활성기능 2등급)\",\"INTK_MEMO\":\"\"},{\"SKLL_IX_IRDNT_RAWMTRL\":\"케르세틴(Quercetin)\",\"LAST_UPDT_DTM\":\"20201029\",\"INTK_UNIT\":\"ml\",\"IFTKN_ATNT_MATR_CN\":\"\",\"DAY_INTK_HIGHLIMIT\":\"150\",\"PRDCT_NM\":\"창녕양파추출액(제2016-11호)\",\"CRET_DTM\":\"20191226\",\"DAY_INTK_LOWLIMIT\":\"150\",\"PRIMARY_FNCLTY\":\"혈중 콜레스테롤 개선에 도움을 줄 수 있음(생리활성기능 2등급)\",\"INTK_MEMO\":\"\"},{\"SKLL_IX_IRDNT_RAWMTRL\":\"cycloalliin\",\"LAST_UPDT_DTM\":\"20191226\",\"INTK_UNIT\":\"g/일\",\"IFTKN_ATNT_MATR_CN\":\"\",\"DAY_INTK_HIGHLIMIT\":\"1.5\",\"PRDCT_NM\":\"유산균발효마늘추출물(제2016-16호)\",\"CRET_DTM\":\"20191226\",\"DAY_INTK_LOWLIMIT\":\"1.5\",\"PRIMARY_FNCLTY\":\"간건강에 도움을 줄 수 있음(생리활성기능 2등급)\",\"INTK_MEMO\":\"\"},{\"SKLL_IX_IRDNT_RAWMTRL\":\"미리스트올레산(Myristoleic acid)\",\"LAST_UPDT_DTM\":\"20210205\",\"INTK_UNIT\":\"mg/일\",\"IFTKN_ATNT_MATR_CN\":\"-임산부 및 수유부는 섭취 시 주의\",\"DAY_INTK_HIGHLIMIT\":\"1248\",\"PRDCT_NM\":\"지방산복합물 FAC(Fatty Acid Complex)(제2012-16호)\",\"CRET_DTM\":\"20191226\",\"DAY_INTK_LOWLIMIT\":\"1248\",\"PRIMARY_FNCLTY\":\"(국문) 관절 건강에 도움을 줄 수 있음\\\\n(영문) May help to maintain healthy joint\",\"INTK_MEMO\":\"\"},{\"SKLL_IX_IRDNT_RAWMTRL\":\"베타글루칸\",\"LAST_UPDT_DTM\":\"20201029\",\"INTK_UNIT\":\"g\",\"IFTKN_ATNT_MATR_CN\":\"\",\"DAY_INTK_HIGHLIMIT\":\"8\",\"PRDCT_NM\":\"보리베타글루칸추출물(제2009-73호)\",\"CRET_DTM\":\"20191226\",\"DAY_INTK_LOWLIMIT\":\"3\",\"PRIMARY_FNCLTY\":\"(국문) 혈중 콜레스테롤 개선에 도움을 줄 수 있음\\\\n(영문) May help to improve blood cholesterol level\",\"INTK_MEMO\":\"\"},{\"SKLL_IX_IRDNT_RAWMTRL\":\"정제오징어유(기능성원료인정제2009-76호)\",\"LAST_UPDT_DTM\":\"20191226\",\"INTK_UNIT\":\"g\",\"IFTKN_ATNT_MATR_CN\":\"\",\"DAY_INTK_HIGHLIMIT\":\"2\",\"PRDCT_NM\":\"정제오징어유(제2009-76호)\",\"CRET_DTM\":\"20191226\",\"DAY_INTK_LOWLIMIT\":\"0.5\",\"PRIMARY_FNCLTY\":\"혈행 개선에 도움을 줄 수 있음(기타기능II) ·혈중 중성지질 개선에 도움을 줄 수 있음 (기타기능II)\",\"INTK_MEMO\":\"\"},{\"SKLL_IX_IRDNT_RAWMTRL\":\"자일로올리고당\",\"LAST_UPDT_DTM\":\"20201029\",\"INTK_UNIT\":\"g\",\"IFTKN_ATNT_MATR_CN\":\"과량으로 섭취 시 설사를 유발할 수도 있습니다\",\"DAY_INTK_HIGHLIMIT\":\"7.5\",\"PRDCT_NM\":\"자일로올리고당분말(제2009-80호)\",\"CRET_DTM\":\"20191226\",\"DAY_INTK_LOWLIMIT\":\"0.7\",\"PRIMARY_FNCLTY\":\"장내 유익균 증식, 유해균 억제, 배변활동에 도움을 줄 수 있음(기타기능II)\",\"INTK_MEMO\":\"\"},{\"SKLL_IX_IRDNT_RAWMTRL\":\"자일로올리고당(기능성원료인정제2009-81호)\",\"LAST_UPDT_DTM\":\"20191226\",\"INTK_UNIT\":\"g\",\"IFTKN_ATNT_MATR_CN\":\"과량으로 섭취 시 설사를 유발할 수도 있습니다.\",\"DAY_INTK_HIGHLIMIT\":\"7.5\",\"PRDCT_NM\":\"자일로올리고당(제2009-81호)\",\"CRET_DTM\":\"20191226\",\"DAY_INTK_LOWLIMIT\":\"0.7\",\"PRIMARY_FNCLTY\":\"장내 유익균 증식, 유해균 억제, 배변활동에 도움을 줄 수 있음(기타기능II)\",\"INTK_MEMO\":\"\"},{\"SKLL_IX_IRDNT_RAWMTRL\":\"프로안토시아니딘(Proanthocyanidin;PAC)\",\"LAST_UPDT_DTM\":\"20201029\",\"INTK_UNIT\":\"mg\",\"IFTKN_ATNT_MATR_CN\":\"-와파린, 쿠마딘 등 항응고제, 오메프라졸 등의 위산분비 억제제와 함께 섭취하지 마십시오\\\\n-제안된 섭취량 이상 과잉 복용할 경우 설사가 있을 수 있으므로, 정해진 섭취량을 준수하여 주십시오\",\"DAY_INTK_HIGHLIMIT\":\"1000\",\"PRDCT_NM\":\"파크랜크랜베리추출분말(제2009-84호)\",\"CRET_DTM\":\"20191226\",\"DAY_INTK_LOWLIMIT\":\"500\",\"PRIMARY_FNCLTY\":\"요로의 유해균 흡착 억제로 요로건강에 도움을 줄 수 있음(기타기능II)\",\"INTK_MEMO\":\"\"},{\"SKLL_IX_IRDNT_RAWMTRL\":\"Alanine-Lysine-Tyrosine-Serine-Tyrosine\",\"LAST_UPDT_DTM\":\"20201029\",\"INTK_UNIT\":\"g\",\"IFTKN_ATNT_MATR_CN\":\"해조식 섭취에 주의해야 하는 분은 섭취를 삼가시기 바랍니다\",\"DAY_INTK_HIGHLIMIT\":\"1.6\",\"PRDCT_NM\":\"해태올리고펩티드(NORI-PEPTIDE)(제2009-87호)\",\"CRET_DTM\":\"20191226\",\"DAY_INTK_LOWLIMIT\":\"1.6\",\"PRIMARY_FNCLTY\":\"혈압조절에 도움을 줄 수 있음(기타기능II)\",\"INTK_MEMO\":\"\"},{\"SKLL_IX_IRDNT_RAWMTRL\":\"Chlorogenic acid\",\"LAST_UPDT_DTM\":\"20201029\",\"INTK_UNIT\":\"g\",\"IFTKN_ATNT_MATR_CN\":\"-어린이, 임산부 및 수유부는 섭취를 피할 것\\\\n-질환이 있거나 의약품 복용시 전문가와 상담할 것\\\\n-카페인을 함유한 식품의 섭취에 주의할 것\\\\n-이상사례 발생 시 섭취를 중단하고 전문가와 상담할 것\",\"DAY_INTK_HIGHLIMIT\":\"3\",\"PRDCT_NM\":\"Green Mate Extract EFLA® 920(제2010-7호)\",\"CRET_DTM\":\"20191226\",\"DAY_INTK_LOWLIMIT\":\"3\",\"PRIMARY_FNCLTY\":\"체지방 감소에 도움을 줄 수 있습니다(기타기능II)\",\"INTK_MEMO\":\"\"},{\"SKLL_IX_IRDNT_RAWMTRL\":\"Chlorogenic acid\",\"LAST_UPDT_DTM\":\"20201029\",\"INTK_UNIT\":\"g\",\"IFTKN_ATNT_MATR_CN\":\"-담관에 이상이 있는 분은 의사와 상의하신 후 섭취하시기 바랍니다\\\\n-알레르기 반응이 나타나는 경우에는 섭취를 중단하시기 바랍니다\",\"DAY_INTK_HIGHLIMIT\":\"1.92\",\"PRDCT_NM\":\"아티초크 추출물(제2010-8호)\",\"CRET_DTM\":\"20191226\",\"DAY_INTK_LOWLIMIT\":\"1.92\",\"PRIMARY_FNCLTY\":\"담즙분비를 촉진하여 지방 소화에 도움을 줄 수 있음(생리활성기능 2등급)\",\"INTK_MEMO\":\"\"},{\"SKLL_IX_IRDNT_RAWMTRL\":\"총 안토시아노사이드(Total Anthocyanosides)\",\"LAST_UPDT_DTM\":\"20200206\",\"INTK_UNIT\":\"mg\",\"IFTKN_ATNT_MATR_CN\":\"일일섭취량 준수하여 섭취\",\"DAY_INTK_HIGHLIMIT\":\"1000\",\"PRDCT_NM\":\"파크랜 크랜베리 분말(제2014-34호)\",\"CRET_DTM\":\"20191226\",\"DAY_INTK_LOWLIMIT\":\"500\",\"PRIMARY_FNCLTY\":\"요로의 유해균 흡착 억제로 요로건강에 도움을 줄 수 있음(생리활성기능 2등급)\",\"INTK_MEMO\":\"파크랜크랜베리추출분말(기능성원료인정제2014-34호)\"},{\"SKLL_IX_IRDNT_RAWMTRL\":\"총 안토시아노사이드(Total Anthocyanosides)\",\"LAST_UPDT_DTM\":\"20201029\",\"INTK_UNIT\":\"mg\",\"IFTKN_ATNT_MATR_CN\":\"일일섭취량 준수하여 섭취\",\"DAY_INTK_HIGHLIMIT\":\"1000\",\"PRDCT_NM\":\"파크랜 크랜베리 분말(제2014-35호)\",\"CRET_DTM\":\"20191226\",\"DAY_INTK_LOWLIMIT\":\"500\",\"PRIMARY_FNCLTY\":\"요로의 유해균 흡착 억제로 요로건강에 도움을 줄 수 있음(생리활성기능 2등급)\",\"INTK_MEMO\":\"\"},{\"SKLL_IX_IRDNT_RAWMTRL\":\"콘드로이친 황산(chondroitin sulfate)\",\"LAST_UPDT_DTM\":\"20210316\",\"INTK_UNIT\":\"mg/일\",\"IFTKN_ATNT_MATR_CN\":\"- 임산부, 수유부는 섭취 시 의사와 상담\\\\n- 복용중인 의약품이 있는 분은 섭취 시 의사와 상담\",\"DAY_INTK_HIGHLIMIT\":\"40\",\"PRDCT_NM\":\"닭가슴연골분말(UC-II)(제2014-39호)\",\"CRET_DTM\":\"20191226\",\"DAY_INTK_LOWLIMIT\":\"40\",\"PRIMARY_FNCLTY\":\"관절건강에 도움을 줄 수 있음(생리활성기능 2등급)\",\"INTK_MEMO\":\"\"},{\"SKLL_IX_IRDNT_RAWMTRL\":\"쉬잔드린(Schizandrin)\",\"LAST_UPDT_DTM\":\"20201029\",\"INTK_UNIT\":\"mg/일\",\"IFTKN_ATNT_MATR_CN\":\"-영·유아, 어린이, 임산부 및 수유부는 섭취에 주의\\\\n-수술 전-후 섭취에 주의\\\\n-식사조절, 운동을 병행하는 것이 바람직함\",\"DAY_INTK_HIGHLIMIT\":\"1582\",\"PRDCT_NM\":\"오미자추출물(제2018-9호)\",\"CRET_DTM\":\"20191226\",\"DAY_INTK_LOWLIMIT\":\"1582\",\"PRIMARY_FNCLTY\":\"(국문) 근력 개선에 도움을 줄 수 있음\\\\n(영문) Help to improve muscle strength\",\"INTK_MEMO\":\"\"},{\"SKLL_IX_IRDNT_RAWMTRL\":\"Ellagic acid(석류농축분말), Pinoresinol diglucoside(두충추출분말), Ecdysterone(우슬추출분말)\",\"LAST_UPDT_DTM\":\"20201029\",\"INTK_UNIT\":\"mg/일\",\"IFTKN_ATNT_MATR_CN\":\"-영·유아, 어린이, 임산부 및 수유부는 섭취에 주의\\\\n-에스트로겐 호르몬에 민감한 사람은 섭취에 주의\",\"DAY_INTK_HIGHLIMIT\":\"1000\",\"PRDCT_NM\":\"우슬 등 복합물(HL-Joint100)(제2018-13호)\",\"CRET_DTM\":\"20191226\",\"DAY_INTK_LOWLIMIT\":\"1000\",\"PRIMARY_FNCLTY\":\"(국문) 관절 및 연골건강에 도움을 줄 수 있음\\\\n(영문) May help to maintain healthy joint and cartilage\",\"INTK_MEMO\":\"우슬 등 복합물(HL-Joint100)\"},{\"SKLL_IX_IRDNT_RAWMTRL\":\"Quercetin, isorhamnetin\",\"LAST_UPDT_DTM\":\"20201029\",\"INTK_UNIT\":\"mg/일\",\"IFTKN_ATNT_MATR_CN\":\"-영·유아, 어린이, 임산부 및 수유부는 섭취에 주의\\\\n-의약품(혈당강하제) 복용 시 섭취에 주의\",\"DAY_INTK_HIGHLIMIT\":\"300\",\"PRDCT_NM\":\"시서스추출물(제2018-14호)\",\"CRET_DTM\":\"20191226\",\"DAY_INTK_LOWLIMIT\":\"300\",\"PRIMARY_FNCLTY\":\"(국문) 체지방 감소에 도움을 줄 수 있음(생리활성기능)\\\\n(영문) May help to reduce body fat\",\"INTK_MEMO\":\"\"},{\"SKLL_IX_IRDNT_RAWMTRL\":\"Gly-Pro dipeptide\",\"LAST_UPDT_DTM\":\"20201008\",\"INTK_UNIT\":\"g/일\",\"IFTKN_ATNT_MATR_CN\":\"-영·유아, 어린이, 임산부와 수유부는 섭취에 주의\\\\n-특정 질환(알레르기 체질 등)이 있는 분은 섭취에 주의\\\\n-이상사례 발생 시 섭취를 중단하고 전문가와 상담할 것\",\"DAY_INTK_HIGHLIMIT\":\"1.65\",\"PRDCT_NM\":\"저분자콜라겐펩타이드NS(제2019-20호)\",\"CRET_DTM\":\"20191226\",\"DAY_INTK_LOWLIMIT\":\"1.65\",\"PRIMARY_FNCLTY\":\"(국문)\\\\n -자외선에 의한 피부손상으로부터 피부건강을 유지하는데  도움을 줄 수 있음 \\\\n -피부보습에 도움을 줄 수 있음\\\\n(영문)\\\\n -May help to maintain skin health from skin damage by UV radiation\\\\n -May help to maintain skin moisturizing\",\"INTK_MEMO\":\"\"},{\"SKLL_IX_IRDNT_RAWMTRL\":\"총 폴리페놀\",\"LAST_UPDT_DTM\":\"20201029\",\"INTK_UNIT\":\"mg\",\"IFTKN_ATNT_MATR_CN\":\"-영·유아, 어린이, 임산부 및 수유부는 섭취에 주의\\\\n-특정 질환(알레르기 체질 등)이 있는 분은 섭취에 주의\\\\n-이상사례 발생 시 섭취를 중단하고 전문가와 상담할 것\",\"DAY_INTK_HIGHLIMIT\":\"600\",\"PRDCT_NM\":\"풋사과추출물 애플페논(Applephenon)(제2019-21호)\",\"CRET_DTM\":\"20191226\",\"DAY_INTK_LOWLIMIT\":\"600\",\"PRIMARY_FNCLTY\":\"(국문) 체지방 감소에 도움을 줄 수 있음\\\\n(영문) May help to reduce body fat\",\"INTK_MEMO\":\"\"},{\"SKLL_IX_IRDNT_RAWMTRL\":\"Carnosic acid와 carnosol의 합(로즈마리추출물), Naringin(자몽추출물)\",\"LAST_UPDT_DTM\":\"20201029\",\"INTK_UNIT\":\"mg/일\",\"IFTKN_ATNT_MATR_CN\":\"-영·유아, 어린이, 임산부 및 수유부는 섭취에 주의\\\\n-특정질환(알레르기 체질 등)이 있는 분은 섭취에 주의\\\\n-이상사례 발생 시 섭취를 중단하고 전문가와 상담할 것\\\\n-의약품(혈압강하제, 부정맥치료제, 고지혈증치료제, 항응고제 등)을 복용하시는 분은 섭취 전 의사와 상담\",\"DAY_INTK_HIGHLIMIT\":\"250\",\"PRDCT_NM\":\"로즈마리자몽추출복합물(제2019-25호)\",\"CRET_DTM\":\"20191226\",\"DAY_INTK_LOWLIMIT\":\"100\",\"PRIMARY_FNCLTY\":\"(국문) 자외선에 의한 피부손상으로부터 피부건강을 유지하는데 도움을 줄 수 있음\\\\n(영문) May help to maintain skin health from skin damage by UV radiation\",\"INTK_MEMO\":\"[20.2.27]일일섭취량 변경\"},{\"SKLL_IX_IRDNT_RAWMTRL\":\"엘라그산(Ellagic acid)\",\"LAST_UPDT_DTM\":\"20201029\",\"INTK_UNIT\":\"g/일\",\"IFTKN_ATNT_MATR_CN\":\"-영·유아, 어린이, 임산부와 수유부는 섭취에 주의\\\\n-에스트로겐 호르몬에 민감한 사람은 섭취에 주의\",\"DAY_INTK_HIGHLIMIT\":\"1\",\"PRDCT_NM\":\"석류농축분말(제2018-8호)\",\"CRET_DTM\":\"20191226\",\"DAY_INTK_LOWLIMIT\":\"1\",\"PRIMARY_FNCLTY\":\"(국문)\\\\n1. 피부 보습에 도움을 줄 수 있음 \\\\n2. 자외선에 의한 피부 손상으로부터 피부건강을 유지하는데 도움을 줄 수 있음 \\\\n(영문)\\\\n1. Help to maintain skin moisturizing\\\\n2. Help to maintain skin health from skin damage by UV radiation\",\"INTK_MEMO\":\"\"},{\"SKLL_IX_IRDNT_RAWMTRL\":\"Ursolic acid\",\"LAST_UPDT_DTM\":\"20201029\",\"INTK_UNIT\":\"g/일\",\"IFTKN_ATNT_MATR_CN\":\"영·유아, 어린이, 임산부 및 수유부는 섭취에 주의\",\"DAY_INTK_HIGHLIMIT\":\"2.7\",\"PRDCT_NM\":\"깻잎추출물(PF501)(제2019-3호)\",\"CRET_DTM\":\"20191226\",\"DAY_INTK_LOWLIMIT\":\"2.7\",\"PRIMARY_FNCLTY\":\"(국문) 체지방 감소에 도움을 줄 수 있음\\\\n(영문) May help to reduce body fat\",\"INTK_MEMO\":\"\"},{\"SKLL_IX_IRDNT_RAWMTRL\":\"프로바이오틱스 수\",\"LAST_UPDT_DTM\":\"20201008\",\"INTK_UNIT\":\"CFU\",\"IFTKN_ATNT_MATR_CN\":\"-질환이 있거나 의약품(면역억제제 등) 복용 시 전문가와 상담할 것\\\\n-알레르기 체질 등은 개인에 따라 과민반응을 나타낼 수 있음\\\\n-어린이가 함부로 섭취하지 않도록 일일섭취량 방법을 지도할 것\\\\n-이상사례 발생 시 섭취를 중단하고 전문가와 상담할 것\",\"DAY_INTK_HIGHLIMIT\":\"100000000\",\"PRDCT_NM\":\"Lactobacillus acidophilus YT1(제2019-22호)\",\"CRET_DTM\":\"20191226\",\"DAY_INTK_LOWLIMIT\":\"100000000\",\"PRIMARY_FNCLTY\":\"(국문) 갱년기 여성 건강에 도움을 줄 수 있음 (영문) May help to menopausal womens health\",\"INTK_MEMO\":\"\"},{\"SKLL_IX_IRDNT_RAWMTRL\":\"프로바이오틱스 수, 락토페린\",\"LAST_UPDT_DTM\":\"20201008\",\"INTK_UNIT\":\"mg/일\",\"IFTKN_ATNT_MATR_CN\":\"-영·유아, 어린이, 임산부 및 수유부는 섭취에 주의\\\\n-우유, 유제품 및 기타 제품에 대해 알레르기가 있는 사람은 섭취에 주의\\\\n-이상사례 발생 시 섭취를 중단하고 전문가와 상담할 것\",\"DAY_INTK_HIGHLIMIT\":\"124.35\",\"PRDCT_NM\":\"리스펙타(Respecta®) 프로바이오틱스(제2019-26호)\",\"CRET_DTM\":\"20191226\",\"DAY_INTK_LOWLIMIT\":\"124.35\",\"PRIMARY_FNCLTY\":\"(국문) 질내 유익균 증식 및 유해균 억제에 도움을 줄 수 있음 (영문) May help to proliferate vaginal beneficial flora and to suppress pathogenic bacteria\",\"INTK_MEMO\":\"일일섭취량 :  리스펙타(Respecta®)로서 124.35 mg/일(유산균으로서 5x109 CFU이상)\"},{\"SKLL_IX_IRDNT_RAWMTRL\":\"클로로겐산(Chlorogenic acid)\",\"LAST_UPDT_DTM\":\"20201029\",\"INTK_UNIT\":\"mg/일\",\"IFTKN_ATNT_MATR_CN\":\"-영·유아, 어린이, 임산부 및 수유부는 섭취에 주의\\\\n-카페인이 함유되어 있어 초조감, 불면 등을 나타낼 수 있음\",\"DAY_INTK_HIGHLIMIT\":\"500\",\"PRDCT_NM\":\"그린커피빈주정추출물(제2018-6호)\",\"CRET_DTM\":\"20191226\",\"DAY_INTK_LOWLIMIT\":\"500\",\"PRIMARY_FNCLTY\":\"(국문) 체지방 감소에 도움을 줄 수 있음\\\\n(영문) May help to reduce body fat\",\"INTK_MEMO\":\"\"},{\"SKLL_IX_IRDNT_RAWMTRL\":\"감마-오리자놀(γ-Oryzanol)\",\"LAST_UPDT_DTM\":\"20201029\",\"INTK_UNIT\":\"g/일\",\"IFTKN_ATNT_MATR_CN\":\"-영·유아, 어린이, 임산부 및 수유부는 섭취에 주의\\\\n-의약품(항히스타민제 또는 중추신경계억제제)과 병용섭취 시 주의\",\"DAY_INTK_HIGHLIMIT\":\"1\",\"PRDCT_NM\":\"미강주정추출물(제2018-3호)\",\"CRET_DTM\":\"20191226\",\"DAY_INTK_LOWLIMIT\":\"1\",\"PRIMARY_FNCLTY\":\"(국문) 수면에 도움을 줄 수 있음\\\\n(영문) May help to sleep\",\"INTK_MEMO\":\"\"},{\"SKLL_IX_IRDNT_RAWMTRL\":\"하이드란제놀(Hydrangenol)\",\"LAST_UPDT_DTM\":\"20200728\",\"INTK_UNIT\":\"mg/일\",\"IFTKN_ATNT_MATR_CN\":\"-영·유아, 어린이, 임산부 및 수유부는 섭취에 주의\\\\n-특정 질환(알레르기 체질 등)이 있는 분은 섭취에 주의\\\\n-이상사례 발생 시 섭취를 중단하고 전문가와 상담할 것\",\"DAY_INTK_HIGHLIMIT\":\"600\",\"PRDCT_NM\":\"수국잎열수추출물(제2020-7호)\",\"CRET_DTM\":\"20200728\",\"DAY_INTK_LOWLIMIT\":\"300\",\"PRIMARY_FNCLTY\":\"- (국문) 피부보습에 도움을 줄 수 있음\\\\n   (영문) May help to maintain skin moisturizing\",\"INTK_MEMO\":\"수국잎열수추출물(제2020-7호)\"},{\"SKLL_IX_IRDNT_RAWMTRL\":\"바릴티로신, 펩타이드\",\"LAST_UPDT_DTM\":\"20201029\",\"INTK_UNIT\":\"μg\",\"IFTKN_ATNT_MATR_CN\":\"-고혈압치료제 등 복용 시 전문가와 상담할 것\\\\n-이상사례 발생 시 섭취를 중단하고 전문가와 상담할 것\",\"DAY_INTK_HIGHLIMIT\":\"400\",\"PRDCT_NM\":\"정어리펩타이드 SP100N(제2004-1호)\",\"CRET_DTM\":\"20191226\",\"DAY_INTK_LOWLIMIT\":\"250\",\"PRIMARY_FNCLTY\":\"(국문) 혈압을 조절하는데 도움을 줄 수 있음\\\\n(영문) May help to maintain healthy blood pressure\",\"INTK_MEMO\":\"\"},{\"SKLL_IX_IRDNT_RAWMTRL\":\"자일리톨\",\"LAST_UPDT_DTM\":\"20201029\",\"INTK_UNIT\":\"g\",\"IFTKN_ATNT_MATR_CN\":\"이상사례 발생 시 섭취를 중단하고 전문가와 상담할 것\",\"DAY_INTK_HIGHLIMIT\":\"10\",\"PRDCT_NM\":\"자일리톨(제2004-2호)\",\"CRET_DTM\":\"20191226\",\"DAY_INTK_LOWLIMIT\":\"5\",\"PRIMARY_FNCLTY\":\"(국문) 충치발생 위험 감소에 도움을 줌\\\\n(영문) Can help to reduce risk of caries occurrence\",\"INTK_MEMO\":\"\"},{\"SKLL_IX_IRDNT_RAWMTRL\":\"참당귀뿌리추출물(기능성원료인정제2004-6호)\",\"LAST_UPDT_DTM\":\"20191226\",\"INTK_UNIT\":\"mg\",\"IFTKN_ATNT_MATR_CN\":\"①소화불량, 속쓰림 등이 나타날 수 있습니다.②혈액응고방지제 또는 혈당강하제를 복용하시는 분은 의사의 상담 하에 사용하여 주십시오.\",\"DAY_INTK_HIGHLIMIT\":\"800.1\",\"PRDCT_NM\":\"참당귀뿌리추출물(제2004-6호)\",\"CRET_DTM\":\"20191226\",\"DAY_INTK_LOWLIMIT\":\"799.9\",\"PRIMARY_FNCLTY\":\"노인의 인지능력저하 개선에 도움을 줄 수 있음(기타기능II)\",\"INTK_MEMO\":\"\"},{\"SKLL_IX_IRDNT_RAWMTRL\":\"포도종자추출물(기능성원료인정제2005-9호)\",\"LAST_UPDT_DTM\":\"20191226\",\"INTK_UNIT\":\"mg\",\"IFTKN_ATNT_MATR_CN\":\"\",\"DAY_INTK_HIGHLIMIT\":\"300.01\",\"PRDCT_NM\":\"포도종자추출물(제2005-9호)\",\"CRET_DTM\":\"20191226\",\"DAY_INTK_LOWLIMIT\":\"199.99\",\"PRIMARY_FNCLTY\":\"항산화능 증진에 도움을 줄 수 있음(기타기능II)\",\"INTK_MEMO\":\"\"},{\"SKLL_IX_IRDNT_RAWMTRL\":\"Phe-Phe-Val-Ala-Pro-Phe-Pro-Glu-Val-Phe-Gly-Lys\",\"LAST_UPDT_DTM\":\"20201029\",\"INTK_UNIT\":\"mg\",\"IFTKN_ATNT_MATR_CN\":\"-임산부, 수유부는 섭취를 삼가시기 바랍니다\\\\n-어린이, 노인, 신부전이 있는 사람, 혈압약을 복용하시는 분이 섭취 시에는 의사와 상담하셔야 합니다\",\"DAY_INTK_HIGHLIMIT\":\"4000\",\"PRDCT_NM\":\"카제인가수분해물(제2006-19호)\",\"CRET_DTM\":\"20191226\",\"DAY_INTK_LOWLIMIT\":\"4000\",\"PRIMARY_FNCLTY\":\"혈압이 걱정되시는 분에게 도움을 줄 수 있음(기타기능II)\",\"INTK_MEMO\":\"\"},{\"SKLL_IX_IRDNT_RAWMTRL\":\"Oleuropein\",\"LAST_UPDT_DTM\":\"20201029\",\"INTK_UNIT\":\"mg\",\"IFTKN_ATNT_MATR_CN\":\"-위, 간 및 신장 질환이 있거나 고혈압치료제 등 복용 시\\\\n전문가와 상의 할 것\\\\n-이상사례 발생 시 섭취를 중단하고 전문가와 상담할 것\",\"DAY_INTK_HIGHLIMIT\":\"1000\",\"PRDCT_NM\":\"올리브잎주정추출물 EFLA943(제2006-25호)\",\"CRET_DTM\":\"20191226\",\"DAY_INTK_LOWLIMIT\":\"500\",\"PRIMARY_FNCLTY\":\"(국문) 혈압조절에 도움을 줄 수 있음\\\\n(영문) May help to maintain healthy blood pressure\",\"INTK_MEMO\":\"\"},{\"SKLL_IX_IRDNT_RAWMTRL\":\"솔잎증류농축액(기능성원료인정제2007-8호)\",\"LAST_UPDT_DTM\":\"20191226\",\"INTK_UNIT\":\"mg\",\"IFTKN_ATNT_MATR_CN\":\"①기관지 천식, 해소 기침이나 기도에 심한 염증이 있는 사람은 사용을 금하시기 바랍니다.\",\"DAY_INTK_HIGHLIMIT\":\"1350.1\",\"PRDCT_NM\":\"솔잎증류농축액(제2007-8호)\",\"CRET_DTM\":\"20191226\",\"DAY_INTK_LOWLIMIT\":\"1349.9\",\"PRIMARY_FNCLTY\":\"건강한 혈당유지에 도움\",\"INTK_MEMO\":\"\"},{\"SKLL_IX_IRDNT_RAWMTRL\":\"α-Glucosidase 활성 억제능(IC50)/Tris(2-Amino-2-(hydroxymethyl)-1,3-propanediol)\",\"LAST_UPDT_DTM\":\"20201029\",\"INTK_UNIT\":\"mg\",\"IFTKN_ATNT_MATR_CN\":\"\",\"DAY_INTK_HIGHLIMIT\":\"900\",\"PRDCT_NM\":\"콩발효추출물(제2007-10호)\",\"CRET_DTM\":\"20191226\",\"DAY_INTK_LOWLIMIT\":\"900\",\"PRIMARY_FNCLTY\":\"당의 흡수를 억제하여 식후혈당을 건강하게 유지하는데 도움을 줄 수 있음(기타기능II)\",\"INTK_MEMO\":\"\"},{\"SKLL_IX_IRDNT_RAWMTRL\":\"Ombuoside\",\"LAST_UPDT_DTM\":\"20201029\",\"INTK_UNIT\":\"mg\",\"IFTKN_ATNT_MATR_CN\":\"-과량 섭취 시 위장장애(구토와 위장운동 증가)가 발생할 수 있음\\\\n-아스피린, 혈액항응고제 복용 시 섭취에 주의\",\"DAY_INTK_HIGHLIMIT\":\"400\",\"PRDCT_NM\":\"돌외잎추출물(제2015-7호)\",\"CRET_DTM\":\"20191226\",\"DAY_INTK_LOWLIMIT\":\"400\",\"PRIMARY_FNCLTY\":\"(국문) 스트레스로 인한 긴장완화에 도움을 줄 수 있음\\\\n(영문) May help to relaxation of tension by stress\",\"INTK_MEMO\":\"\"},{\"SKLL_IX_IRDNT_RAWMTRL\":\"쉬잔드린(Schizandrin), 고미신 A(Gomisin A), 고미신 N(Gomisin N)\",\"LAST_UPDT_DTM\":\"20210316\",\"INTK_UNIT\":\"mg/일\",\"IFTKN_ATNT_MATR_CN\":\"\",\"DAY_INTK_HIGHLIMIT\":\"783\",\"PRDCT_NM\":\"오미자추출물(제2016-21호)\",\"CRET_DTM\":\"20191226\",\"DAY_INTK_LOWLIMIT\":\"783\",\"PRIMARY_FNCLTY\":\"갱년기 여성 건강에 도움을 줄 수 있음(생리활성기능 2등급)\",\"INTK_MEMO\":\"\"},{\"SKLL_IX_IRDNT_RAWMTRL\":\"rosmarinic acid(레몬밤), 1-Deoxynojirimycin(뽕나무잎), 6,7-Dimethylesculetin(인진쑥)\",\"LAST_UPDT_DTM\":\"20201029\",\"INTK_UNIT\":\"mg/일\",\"IFTKN_ATNT_MATR_CN\":\"-알레르기 반응이 나타날 경우에는 섭취를 중단하시기 바랍니다\\\\n-섭취 후 진정작용이 나타날 수 있습니다\\\\n-어린이 및 임산부와 수유부 여성은 섭취에 주의하시기 바랍니다\",\"DAY_INTK_HIGHLIMIT\":\"1380\",\"PRDCT_NM\":\"레몬 밤 추출물 혼합분말(제2010-24호)\",\"CRET_DTM\":\"20191226\",\"DAY_INTK_LOWLIMIT\":\"1380\",\"PRIMARY_FNCLTY\":\"체지방 감소에 도움을 줄 수 있음 (기타기능II)\",\"INTK_MEMO\":\"건강기능식품 기능성 원료 인정\"},{\"SKLL_IX_IRDNT_RAWMTRL\":\"4-Hydroxy-L-isoleucine(호로파종자추출분말), D-pinitol(비수리추출분말)\",\"LAST_UPDT_DTM\":\"20201029\",\"INTK_UNIT\":\"mg/일\",\"IFTKN_ATNT_MATR_CN\":\"땅콩 알레르기가 있는 사람은 섭취에 주의\",\"DAY_INTK_HIGHLIMIT\":\"400\",\"PRDCT_NM\":\"호로파종자 등 추출복합물(제2017-5호)\",\"CRET_DTM\":\"20191226\",\"DAY_INTK_LOWLIMIT\":\"400\",\"PRIMARY_FNCLTY\":\"(국문) 남성의 갱년기 건강에 도움을 줄 수 있음\\\\n(영문) May help to climacteric mens health\",\"INTK_MEMO\":\"\"},{\"SKLL_IX_IRDNT_RAWMTRL\":\"베타글루칸(β-glucan)\",\"LAST_UPDT_DTM\":\"20201029\",\"INTK_UNIT\":\"g/일\",\"IFTKN_ATNT_MATR_CN\":\"-영·유아, 어린이, 임산부 및 수유부는 섭취에 주의\\\\n-알레르기 체질이거나 특정질환이 있는 분은 섭취 전 의사와 상담\",\"DAY_INTK_HIGHLIMIT\":\"3\",\"PRDCT_NM\":\"세리포리아 락세라타 균사체 배양물(제2018-5호)\",\"CRET_DTM\":\"20191226\",\"DAY_INTK_LOWLIMIT\":\"3\",\"PRIMARY_FNCLTY\":\"(국문) 혈당조절에 도움을 줄 수 있음\\\\n(영문) May help to maintain healthy blood glucose leve\",\"INTK_MEMO\":\"\"}]}}'"
      ]
     },
     "execution_count": 44,
     "metadata": {},
     "output_type": "execute_result"
    }
   ],
   "source": [
    "response.text"
   ]
  },
  {
   "cell_type": "code",
   "execution_count": 54,
   "metadata": {},
   "outputs": [],
   "source": [
    "### get 방식으로 가져와야하기 때문에 total count의 수만큼 검색해서 가져오기\n",
    "\n",
    "response = requests.get('http://openapi.foodsafetykorea.go.kr/api/a5da39d31ce94c98ac69/I2710/json/1/350')\n",
    "resp_json = response.json()['I2710']"
   ]
  },
  {
   "cell_type": "code",
   "execution_count": 61,
   "metadata": {},
   "outputs": [],
   "source": [
    "df= pd.json_normalize(resp_json['row'])"
   ]
  },
  {
   "cell_type": "code",
   "execution_count": 62,
   "metadata": {
    "scrolled": true
   },
   "outputs": [
    {
     "data": {
      "text/html": [
       "<div>\n",
       "<style scoped>\n",
       "    .dataframe tbody tr th:only-of-type {\n",
       "        vertical-align: middle;\n",
       "    }\n",
       "\n",
       "    .dataframe tbody tr th {\n",
       "        vertical-align: top;\n",
       "    }\n",
       "\n",
       "    .dataframe thead th {\n",
       "        text-align: right;\n",
       "    }\n",
       "</style>\n",
       "<table border=\"1\" class=\"dataframe\">\n",
       "  <thead>\n",
       "    <tr style=\"text-align: right;\">\n",
       "      <th></th>\n",
       "      <th>SKLL_IX_IRDNT_RAWMTRL</th>\n",
       "      <th>LAST_UPDT_DTM</th>\n",
       "      <th>INTK_UNIT</th>\n",
       "      <th>IFTKN_ATNT_MATR_CN</th>\n",
       "      <th>DAY_INTK_HIGHLIMIT</th>\n",
       "      <th>PRDCT_NM</th>\n",
       "      <th>CRET_DTM</th>\n",
       "      <th>DAY_INTK_LOWLIMIT</th>\n",
       "      <th>PRIMARY_FNCLTY</th>\n",
       "      <th>INTK_MEMO</th>\n",
       "    </tr>\n",
       "  </thead>\n",
       "  <tbody>\n",
       "    <tr>\n",
       "      <th>0</th>\n",
       "      <td>아라비아검(아카시아검)식이섬유</td>\n",
       "      <td>20200820</td>\n",
       "      <td>g</td>\n",
       "      <td>반드시 충분한 물과 함께 섭취할 것 (액상제외)</td>\n",
       "      <td>20.01</td>\n",
       "      <td>아라비아검(아카시아검)</td>\n",
       "      <td>20080922</td>\n",
       "      <td>19.99</td>\n",
       "      <td>배변활동 원활에 도움을 줄 수 있음</td>\n",
       "      <td></td>\n",
       "    </tr>\n",
       "    <tr>\n",
       "      <th>1</th>\n",
       "      <td></td>\n",
       "      <td>20080626</td>\n",
       "      <td>mg</td>\n",
       "      <td></td>\n",
       "      <td>7</td>\n",
       "      <td>베타카로틴</td>\n",
       "      <td>20080626</td>\n",
       "      <td>0.42</td>\n",
       "      <td>①어두운 곳에서 시각 적응을 위해 필요②피부와 점막을 형성하고 기능을 유지하는데 필...</td>\n",
       "      <td>식품원료를 사용하여 제조가공한 경우는 1.26mg 이상(상한섭취량 없음)</td>\n",
       "    </tr>\n",
       "    <tr>\n",
       "      <th>2</th>\n",
       "      <td></td>\n",
       "      <td>20080626</td>\n",
       "      <td>mg</td>\n",
       "      <td></td>\n",
       "      <td>0.9</td>\n",
       "      <td>비오틴</td>\n",
       "      <td>20080626</td>\n",
       "      <td>0.009</td>\n",
       "      <td>①지방, 탄수화물, 단백질 대사와 에너지 생성에 필요</td>\n",
       "      <td></td>\n",
       "    </tr>\n",
       "    <tr>\n",
       "      <th>3</th>\n",
       "      <td>공액리놀레산</td>\n",
       "      <td>20200820</td>\n",
       "      <td>g</td>\n",
       "      <td>위장장애가 발생할 수 있음\\n영·유아, 임산부는 섭취를 삼가야 함\\n식사조절, 운동...</td>\n",
       "      <td>4.2</td>\n",
       "      <td>공액리놀레산</td>\n",
       "      <td>20100112</td>\n",
       "      <td>1.4</td>\n",
       "      <td>①과체중인 성인의 체지방 감소에 도움을 줄 수 있음</td>\n",
       "      <td></td>\n",
       "    </tr>\n",
       "    <tr>\n",
       "      <th>4</th>\n",
       "      <td>총(-)-Hydroxycitric acid</td>\n",
       "      <td>20200820</td>\n",
       "      <td>mg</td>\n",
       "      <td>(가) 어린이, 임산부 및 수유부는 섭취를 피할 것\\n(나) 간·신장·심장질환, 알...</td>\n",
       "      <td>2800</td>\n",
       "      <td>가르시니아캄보지아 추출물</td>\n",
       "      <td>20100224</td>\n",
       "      <td>750</td>\n",
       "      <td>탄수화물이 지방으로 합성되는 것을 억제하여 체지방 감소에 도움을 줄 수 있음</td>\n",
       "      <td></td>\n",
       "    </tr>\n",
       "  </tbody>\n",
       "</table>\n",
       "</div>"
      ],
      "text/plain": [
       "     SKLL_IX_IRDNT_RAWMTRL LAST_UPDT_DTM INTK_UNIT  \\\n",
       "0         아라비아검(아카시아검)식이섬유      20200820         g   \n",
       "1                               20080626        mg   \n",
       "2                               20080626        mg   \n",
       "3                   공액리놀레산      20200820         g   \n",
       "4  총(-)-Hydroxycitric acid      20200820        mg   \n",
       "\n",
       "                                  IFTKN_ATNT_MATR_CN DAY_INTK_HIGHLIMIT  \\\n",
       "0                         반드시 충분한 물과 함께 섭취할 것 (액상제외)              20.01   \n",
       "1                                                                     7   \n",
       "2                                                                   0.9   \n",
       "3  위장장애가 발생할 수 있음\\n영·유아, 임산부는 섭취를 삼가야 함\\n식사조절, 운동...                4.2   \n",
       "4  (가) 어린이, 임산부 및 수유부는 섭취를 피할 것\\n(나) 간·신장·심장질환, 알...               2800   \n",
       "\n",
       "        PRDCT_NM  CRET_DTM DAY_INTK_LOWLIMIT  \\\n",
       "0   아라비아검(아카시아검)  20080922             19.99   \n",
       "1          베타카로틴  20080626              0.42   \n",
       "2            비오틴  20080626             0.009   \n",
       "3         공액리놀레산  20100112               1.4   \n",
       "4  가르시니아캄보지아 추출물  20100224               750   \n",
       "\n",
       "                                      PRIMARY_FNCLTY  \\\n",
       "0                                배변활동 원활에 도움을 줄 수 있음   \n",
       "1  ①어두운 곳에서 시각 적응을 위해 필요②피부와 점막을 형성하고 기능을 유지하는데 필...   \n",
       "2                      ①지방, 탄수화물, 단백질 대사와 에너지 생성에 필요   \n",
       "3                       ①과체중인 성인의 체지방 감소에 도움을 줄 수 있음   \n",
       "4         탄수화물이 지방으로 합성되는 것을 억제하여 체지방 감소에 도움을 줄 수 있음   \n",
       "\n",
       "                                  INTK_MEMO  \n",
       "0                                            \n",
       "1  식품원료를 사용하여 제조가공한 경우는 1.26mg 이상(상한섭취량 없음)  \n",
       "2                                            \n",
       "3                                            \n",
       "4                                            "
      ]
     },
     "execution_count": 62,
     "metadata": {},
     "output_type": "execute_result"
    }
   ],
   "source": [
    "df.head()"
   ]
  },
  {
   "cell_type": "code",
   "execution_count": 63,
   "metadata": {},
   "outputs": [],
   "source": [
    "df.to_csv('건강식품 품목분류정보.csv', index = False)"
   ]
  },
  {
   "cell_type": "code",
   "execution_count": 72,
   "metadata": {},
   "outputs": [],
   "source": [
    "response = requests.get('http://openapi.foodsafetykorea.go.kr/api/a5da39d31ce94c98ac69/I-0050/json/1/260')\n",
    "resp_json = response.json()['I-0050']\n",
    "df= pd.json_normalize(resp_json['row'])"
   ]
  },
  {
   "cell_type": "code",
   "execution_count": 73,
   "metadata": {},
   "outputs": [
    {
     "data": {
      "text/plain": [
       "260"
      ]
     },
     "execution_count": 73,
     "metadata": {},
     "output_type": "execute_result"
    }
   ],
   "source": [
    "len(df)"
   ]
  },
  {
   "cell_type": "code",
   "execution_count": 74,
   "metadata": {},
   "outputs": [],
   "source": [
    "df.to_csv('건강식품 개별인정형 정보.csv', index = False)"
   ]
  }
 ],
 "metadata": {
  "kernelspec": {
   "display_name": "Python 3",
   "language": "python",
   "name": "python3"
  },
  "language_info": {
   "codemirror_mode": {
    "name": "ipython",
    "version": 3
   },
   "file_extension": ".py",
   "mimetype": "text/x-python",
   "name": "python",
   "nbconvert_exporter": "python",
   "pygments_lexer": "ipython3",
   "version": "3.8.5"
  }
 },
 "nbformat": 4,
 "nbformat_minor": 4
}
